{
  "cells": [
    {
      "cell_type": "markdown",
      "metadata": {
        "id": "cZDe9nCK7ewX"
      },
      "source": [
        "## Code for article \"Containminated Images Recovery by Implementing Non-negative Matrix Factorisation\""
      ],
      "id": "cZDe9nCK7ewX"
    },
    {
      "cell_type": "markdown",
      "source": [
        "## 1.0 Load Dataset\n",
        "\n"
      ],
      "metadata": {
        "id": "twqXuWrm3fzT"
      },
      "id": "twqXuWrm3fzT"
    },
    {
      "cell_type": "markdown",
      "source": [
        "### 1.1 Set data folder"
      ],
      "metadata": {
        "id": "9VhEaU3p3mWH"
      },
      "id": "9VhEaU3p3mWH"
    },
    {
      "cell_type": "code",
      "execution_count": null,
      "metadata": {
        "id": "Hq2tisQL7_KP",
        "colab": {
          "base_uri": "https://localhost:8080/"
        },
        "outputId": "c6ebe915-7df2-44c7-a9a4-cfcfcca661ad"
      },
      "outputs": [
        {
          "output_type": "stream",
          "name": "stdout",
          "text": [
            "Mounted at /content/drive\n",
            "/content/drive/Othercomputers/My laptop/Master of DS/COMP5328/Assignment/data\n"
          ]
        }
      ],
      "source": [
        "from google.colab import drive\n",
        "drive.mount('/content/drive')\n",
        "%cd '/content/drive/MyDrive/Master of DS/COMP5328/Assignment/data/'"
      ],
      "id": "Hq2tisQL7_KP"
    },
    {
      "cell_type": "code",
      "execution_count": null,
      "metadata": {
        "id": "2f7e9593",
        "colab": {
          "base_uri": "https://localhost:8080/"
        },
        "outputId": "f57a7364-91b2-401b-ee45-6c9e3653f32e"
      },
      "outputs": [
        {
          "output_type": "stream",
          "name": "stdout",
          "text": [
            "total 8\n",
            "drwx------ 2 root root 4096 Sep  5 07:35 CroppedYaleB\n",
            "drwx------ 2 root root 4096 Sep  5 07:38 ORL\n"
          ]
        }
      ],
      "source": [
        "# The structure of data folder.\n",
        "!ls -l data"
      ],
      "id": "2f7e9593"
    },
    {
      "cell_type": "markdown",
      "metadata": {
        "id": "bcdf2247"
      },
      "source": [
        "### 1.1 Load ORL or Extended YaleB Dataset.\n",
        "-   ORL dataset contains ten different images of each of 40 distinct\n",
        "    subjects. For some subjects, the images were taken at different\n",
        "    times, varying the lighting, facial expressions (open / closed eyes,\n",
        "    smiling / not smiling) and facial details (glasses / no glasses).\n",
        "    All the images were taken against a dark homogeneous background with\n",
        "    the subjects in an upright, frontal position (with tolerance for\n",
        "    some side movement). The size of each image is 92x112 pixels, with\n",
        "    256 grey levels per pixel. To further reduce the computation\n",
        "    complexity, you can resize all images to 30x37 pixels.\n",
        "\n",
        "-   Extended YaleB dataset contains 2414 images of 38 human subjects\n",
        "    under 9 poses and 64 illumination conditions. All images are\n",
        "    manually aligned, cropped, and then resized to 168x192 pixels. To\n",
        "    further reduce the computation complexity, you can resize all images\n",
        "    to 42x48 pixels."
      ],
      "id": "bcdf2247"
    },
    {
      "cell_type": "code",
      "source": [
        "from time import time\n",
        "from matplotlib import pyplot as plt"
      ],
      "metadata": {
        "id": "9RPaJs3n7WYR"
      },
      "id": "9RPaJs3n7WYR",
      "execution_count": null,
      "outputs": []
    },
    {
      "cell_type": "code",
      "execution_count": null,
      "metadata": {
        "id": "09129620"
      },
      "outputs": [],
      "source": [
        "import os\n",
        "import numpy as np\n",
        "from PIL import Image\n",
        "\n",
        "def load_data(root='data/CroppedYaleB', reduce=4):\n",
        "    \"\"\" \n",
        "    Load ORL (or Extended YaleB) dataset to numpy array.\n",
        "    \n",
        "    Args:\n",
        "        root: path to dataset.\n",
        "        reduce: scale factor for zooming out images.\n",
        "        \n",
        "    \"\"\" \n",
        "    images, labels = [], []\n",
        "\n",
        "    for i, person in enumerate(sorted(os.listdir(root))):\n",
        "        \n",
        "        if not os.path.isdir(os.path.join(root, person)):\n",
        "            continue\n",
        "        \n",
        "        for fname in os.listdir(os.path.join(root, person)):    \n",
        "            \n",
        "            # Remove background images in Extended YaleB dataset.\n",
        "            if fname.endswith('Ambient.pgm'):\n",
        "                continue\n",
        "            \n",
        "            if not fname.endswith('.pgm'):\n",
        "                continue\n",
        "                \n",
        "            # load image.\n",
        "            img = Image.open(os.path.join(root, person, fname))\n",
        "            \n",
        "            img = img.convert('L') # grey image. gets values between 0-255 (8-bit).\n",
        "\n",
        "            # print(img.size) #Original image size (92, 112)\n",
        "\n",
        "            # reduce computation complexity.\n",
        "            img = img.resize([s//reduce for s in img.size]) #(92//reduce, 112//reduce)\n",
        "\n",
        "            # print(img.size)\n",
        "\n",
        "            # TODO: preprocessing.\n",
        "\n",
        "            # convert image to numpy array.\n",
        "            image_shape = np.asarray(img).shape #Output image shape\n",
        "            img = np.asarray(img).reshape((-1,1)) #Shape for img:  (92//reduce * 112//reduce, 1)\n",
        "\n",
        "            # collect data and label.\n",
        "            images.append(img)\n",
        "            labels.append(i)\n",
        "\n",
        "    # concate all images and labels.\n",
        "    images = np.concatenate(images, axis=1)\n",
        "    labels = np.array(labels)\n",
        "\n",
        "    return images, labels, image_shape"
      ],
      "id": "09129620"
    },
    {
      "cell_type": "markdown",
      "source": [
        "#### Load ORL dataset.\n",
        "\n",
        "[Notice: Choose one of them to run, they cannot be run at the same time]"
      ],
      "metadata": {
        "id": "DQqMwtwVImaN"
      },
      "id": "DQqMwtwVImaN"
    },
    {
      "cell_type": "code",
      "source": [
        "# Load ORL dataset.\n",
        "print('==> Load ORL dataset ...')\n",
        "V_hat, Y_hat,image_shape = load_data(root='data/ORL', reduce=3)\n",
        "print('V_hat.shape={}, Y_hat.shape={}, image size = {}'.format(V_hat.shape, Y_hat.shape,image_shape))"
      ],
      "metadata": {
        "colab": {
          "base_uri": "https://localhost:8080/"
        },
        "id": "GOTPO2Wq12Qj",
        "outputId": "4bd1f470-d5dd-4b6d-b8a7-b8cc8abf62a2"
      },
      "id": "GOTPO2Wq12Qj",
      "execution_count": null,
      "outputs": [
        {
          "output_type": "stream",
          "name": "stdout",
          "text": [
            "==> Load ORL dataset ...\n",
            "V_hat.shape=(1110, 400), Y_hat.shape=(400,), image size = (37, 30)\n"
          ]
        }
      ]
    },
    {
      "cell_type": "markdown",
      "source": [
        "#### Load YaleB dataset.\n",
        "[Notice: Choose one of them to run, they cannot be run at the same time]"
      ],
      "metadata": {
        "id": "qcmIjkiMIyoM"
      },
      "id": "qcmIjkiMIyoM"
    },
    {
      "cell_type": "code",
      "execution_count": null,
      "metadata": {
        "colab": {
          "base_uri": "https://localhost:8080/"
        },
        "id": "o3i8vYKYTi7T",
        "outputId": "6994a2eb-bc31-45a6-8c1e-53f10a834a21"
      },
      "outputs": [
        {
          "output_type": "stream",
          "name": "stdout",
          "text": [
            "==> Load YaleB dataset ...\n",
            "Extended YalB dataset: V_hat.shape = (2016, 2414), Y_hat.shape = (2414,), image size = (48, 42)\n",
            "YaleB data load finished in 437.852976s\n"
          ]
        }
      ],
      "source": [
        "# Load Extended YaleB dataset.\n",
        "time_start = time()\n",
        "print('==> Load YaleB dataset ...')\n",
        "V_hat_YaleB, Y_hat_YaleB,image_shape_YaleB = load_data(root='data/CroppedYaleB', reduce=4)\n",
        "print('Extended YalB dataset: V_hat.shape = {}, Y_hat.shape = {}, image size = {}'.format(V_hat_YaleB.shape, Y_hat_YaleB.shape,image_shape_YaleB))\n",
        "time_load_YaleB = (time() - time_start)\n",
        "print(\"YaleB data load finished in %fs\"%time_load_YaleB)"
      ],
      "id": "o3i8vYKYTi7T"
    },
    {
      "cell_type": "code",
      "execution_count": null,
      "metadata": {
        "id": "9l8iq_PaPRDr"
      },
      "outputs": [],
      "source": [
        "#If runing results for YaleB data, change the name of YaleB dataset to fit the following code\n",
        "V_hat = V_hat_YaleB\n",
        "Y_hat = Y_hat_YaleB\n",
        "image_shape = image_shape_YaleB"
      ],
      "id": "9l8iq_PaPRDr"
    },
    {
      "cell_type": "markdown",
      "metadata": {
        "id": "VY-U5OoTAt1E"
      },
      "source": [
        "## 2.0 Noise Function\n",
        "\n",
        "The following type of noises are created:\n",
        "\n",
        "*   Block Occlusion by b x b-blocks with b = 10,12 and 14 pixels.\n",
        "*   Salt & Peper noise with p% pixels are contamined, p = 5,10,20\n",
        "\n",
        "\n"
      ],
      "id": "VY-U5OoTAt1E"
    },
    {
      "cell_type": "code",
      "execution_count": null,
      "metadata": {
        "id": "QKuDH0MCgld2"
      },
      "outputs": [],
      "source": [
        "#Image with noise function\n",
        "def add_noise(image,noise_typ,amount):\n",
        "  \n",
        "  if noise_typ == \"block\":\n",
        "    print(\"block occlusion noise b = \",amount)\n",
        "    out = np.zeros(image.shape)\n",
        "    for i in range(image.shape[1]):\n",
        "      temp = np.copy(image)[:,i].reshape(image_shape)\n",
        "      x = np.random.randint(0, image_shape[1] - amount)\n",
        "      y = np.random.randint(0, image_shape[0] - amount)\n",
        "      temp[y:y+amount, x:x+amount] = 255\n",
        "      temp = temp.reshape((-1))\n",
        "      # print(temp.shape)\n",
        "      out[:,i] = temp\n",
        "    return out\n",
        "\n",
        "  elif noise_typ == \"s&p\":\n",
        "    print(\"S&P noise with {}% piexels\".format(amount *100))\n",
        "    # Salt-and-pepper - Replace random pixels with 0 or 255. \n",
        "    # S&P noise is also called impulse noise. It can be caused by several reasons like dead pixels, analog-to-digital conversion error, bit transmission error, etc.\n",
        "    # Code reference: https://discuss.dizzycoding.com/how-to-add-noise-gaussian-salt-and-pepper-etc-to-image-in-python-with-opencv-duplicate/\n",
        "    s_vs_p = 0.5\n",
        "    out = np.copy(image)\n",
        "    # Salt mode\n",
        "    num_salt = np.ceil(amount * image.size * s_vs_p)\n",
        "    coords = [np.random.randint(0, i - 1, int(num_salt)) #randomly return index from 0 to image pixels for num_pepper\n",
        "                  for i in image.shape]\n",
        "    out[tuple(coords)] = 255\n",
        "    # Pepper mode\n",
        "    num_pepper = np.ceil(amount* image.size * (1 - s_vs_p))\n",
        "    coords = [np.random.randint(0, i - 1, int(num_pepper)) for i in image.shape] #randomly return index from 0 to image pixels for num_pepper\n",
        "    out[tuple(coords)] = 0\n",
        "    return out\n",
        "# out_test = add_noise(V_hat,noise_typ = \"block\",amount = 10)\n",
        "# plt.imshow(out_test[:,2].reshape(image_shape), cmap=plt.cm.gray)"
      ],
      "id": "QKuDH0MCgld2"
    },
    {
      "cell_type": "code",
      "execution_count": null,
      "metadata": {
        "id": "XjAC6y1FC6Ge",
        "colab": {
          "base_uri": "https://localhost:8080/"
        },
        "outputId": "e85352e6-13c0-4d40-c98a-34c1cc29d0d0"
      },
      "outputs": [
        {
          "output_type": "stream",
          "name": "stdout",
          "text": [
            "block occlusion noise b =  10\n",
            "block occlusion noise b =  12\n",
            "block occlusion noise b =  14\n",
            "S&P noise with 5.0% piexels\n",
            "S&P noise with 10.0% piexels\n",
            "S&P noise with 20.0% piexels\n"
          ]
        }
      ],
      "source": [
        "noise_scenario = [(V_hat,\"block\",10),(V_hat,\"block\",12),(V_hat,\"block\",14),(V_hat, \"s&p\", 0.05),(V_hat, \"s&p\", 0.1), (V_hat,\"s&p\",0.2)]\n",
        "noise_scenario_name = [\"block_10\",\"block_12\",\"block_14\",\"s&p_5%\",\"s&p_10%\", \"s&p_20%\"]\n",
        "V_list = []\n",
        "np.random.seed(0)\n",
        "for scenario in noise_scenario:\n",
        "    V = add_noise(*scenario)\n",
        "    V_list.append(V)\n",
        "V_list.insert(0, V_hat)\n",
        "noise_scenario_name = [\"Origin\"] + noise_scenario_name"
      ],
      "id": "XjAC6y1FC6Ge"
    },
    {
      "cell_type": "markdown",
      "metadata": {
        "id": "iKYoG4fRDxF2"
      },
      "source": [
        "Figures below are examples of face with different type of noises"
      ],
      "id": "iKYoG4fRDxF2"
    },
    {
      "cell_type": "code",
      "execution_count": null,
      "metadata": {
        "id": "ImTMdfNrDwf3",
        "colab": {
          "base_uri": "https://localhost:8080/",
          "height": 167
        },
        "outputId": "82630efb-99dc-4bfd-d7ac-f02c48afaaea"
      },
      "outputs": [
        {
          "output_type": "display_data",
          "data": {
            "text/plain": [
              "<Figure size 1080x1296 with 7 Axes>"
            ],
            "image/png": "[encoded data removed]"
          },
          "metadata": {}
        }
      ],
      "source": [
        "plt.figure(figsize=(15,18))\n",
        "for i in range(len(noise_scenario_name)):\n",
        "    plt.subplot(1, len(noise_scenario_name), i+1)\n",
        "    plt.imshow(V_list[i][:,100].reshape(image_shape), cmap=plt.cm.gray)\n",
        "    plt.xticks(())\n",
        "    plt.yticks(())\n",
        "    plt.title(noise_scenario_name[i])"
      ],
      "id": "ImTMdfNrDwf3"
    },
    {
      "cell_type": "markdown",
      "metadata": {
        "id": "3f8d9f85"
      },
      "source": [
        "## 3.0 Evaluation Metrics\n",
        "### 3.1 Relative Reconstruction Errors (RRE)\n",
        "\n",
        "To compare the robustness of different NMF algorithms, you can use the\n",
        "`relative reconstruction errors`. Let $V$ denote the contaminated\n",
        "dataset (by adding noise), and $\\hat{V}$ denote the clean dataset.\n",
        "Let $W$ and $H$ denote the factorization results on $V$, the\n",
        "`relative reconstruction errors` then can be defined as follows:\n",
        " $$ RRE = \\frac{ \\| \\hat{V} - WH \\|_F }{ \\| \\hat{V} \\|_F}.  $$\n",
        "\n",
        "### 3.2 Evaluate Clustering Performance\n",
        "\n",
        "1.  Accuracy can be calculated as follows.\n",
        "$$Acc(Y, Y_{pred}) = \\frac{1}{n}\\sum \\limits_{i=1}^n 1\\{Y_{pred}(i)==Y(i)\\}.$$\n",
        "\n",
        "\n",
        "2.  Normalized Mutual Information (NMI) can be calculated as follows.\n",
        "$$ NMI(Y, Y_{pred}) = \\frac{2 * I(Y, Y_{pred})}{H(Y) + H(Y_{pred})}, $$\n",
        "where $ I(\\cdot,\\cdot) $ is mutual information and $ H(\\cdot)$ is entropy.\n"
      ],
      "id": "3f8d9f85"
    },
    {
      "cell_type": "code",
      "execution_count": null,
      "metadata": {
        "id": "-LCpO-3cCpC2"
      },
      "outputs": [],
      "source": [
        "#For Evaluate metrics\n",
        "from matplotlib import pyplot as plt\n",
        "from collections import Counter\n",
        "from sklearn.cluster import KMeans\n",
        "from sklearn.metrics import accuracy_score\n",
        "from sklearn.metrics import normalized_mutual_info_score\n",
        "\n",
        "def assign_cluster_label(X, Y):\n",
        "    kmeans = KMeans(n_clusters=len(set(Y))).fit(X)\n",
        "    Y_pred = np.zeros(Y.shape)\n",
        "    for i in set(kmeans.labels_):\n",
        "        ind = kmeans.labels_ == i\n",
        "        Y_pred[ind] = Counter(Y[ind]).most_common(1)[0][0] # assign label.\n",
        "    return Y_pred\n",
        "\n",
        "def evaluate_metrics(V_hat,Y_hat,H,W):\n",
        "\n",
        "  # relative reconstruction errors\n",
        "  rre = np.linalg.norm(V_hat - W.dot(H)) / np.linalg.norm(V_hat)\n",
        "\n",
        "  # Assign cluster labels.\n",
        "  Y_pred = assign_cluster_label(np.transpose(H), Y_hat)\n",
        "\n",
        "  #Acc and NMI\n",
        "  acc = accuracy_score(Y_hat, Y_pred)\n",
        "  nmi = normalized_mutual_info_score(Y_hat, Y_pred)\n",
        "  # print('Acc(NMI) = {:.4f} ({:.4f})'.format(acc, nmi))\n",
        "\n",
        "  return rre,acc,nmi\n",
        "\n",
        "#Testing evaluation code\n",
        "# rre, acc, nmi = evaluate_metrics(V_hat = V_hat,Y_hat = Y_hat,H = H,W = W)\n",
        "# print('RRE = {:.4f}, acc = {:.4f}, nmi = {:.4f}'.format(rre, acc, nmi))"
      ],
      "id": "-LCpO-3cCpC2"
    },
    {
      "cell_type": "markdown",
      "metadata": {
        "id": "0JVn8cu2A1y2"
      },
      "source": [
        "## 4.0 NMF Method"
      ],
      "id": "0JVn8cu2A1y2"
    },
    {
      "cell_type": "markdown",
      "metadata": {
        "id": "lyl0rmr7SJA-"
      },
      "source": [
        "### 4.1 Traditional NMF Method"
      ],
      "id": "lyl0rmr7SJA-"
    },
    {
      "cell_type": "code",
      "execution_count": null,
      "metadata": {
        "id": "HrxhNv4Bote-"
      },
      "outputs": [],
      "source": [
        "def mf_multiplicative_update(V, W, H, steps=5000):\n",
        "    for step in range(steps):\n",
        "        Wu = W*(V.dot(H))/(W.dot(H.T).dot(H))+1e-7\n",
        "        Hu = (H.T*(Wu.T.dot(V))/(Wu.T.dot(Wu).dot(H.T))).T+1e-7\n",
        "        \n",
        "        e_W = np.sqrt(np.sum((Wu-W)**2, axis=(0,1)))/W.size   #same as lng.norm(Pu-P)/P.size -> Frobenius norm/n\n",
        "        e_H = np.sqrt(np.sum((Hu-H)**2, axis=(0,1)))/H.size\n",
        "        # print(e_P)\n",
        "        # print(e_Q)\n",
        "        if e_W<1e-5 and e_H<1e-5:\n",
        "            print(\"step is:\",step)\n",
        "            break\n",
        "        W = Wu\n",
        "        H = Hu\n",
        "    return W, H\n",
        "\n",
        "def nmf_function(V,Y_hat,random_seed = 1):\n",
        "\n",
        "  rng = np.random.RandomState(random_seed)\n",
        "  \n",
        "  N = len(V)\n",
        "  M = len(V[0])\n",
        "  K = len(set(Y_hat))  #set number of new dimension\n",
        "  #initialise the matrix\n",
        "  W = rng.rand(N,K)\n",
        "  H = rng.rand(M,K)\n",
        "  time_start = time()\n",
        "  \n",
        "  W, H_T = mf_multiplicative_update(V = V, W = W, H = H)\n",
        "  H = np.transpose(H_T)\n",
        "  time_training = (time() - time_start)\n",
        "  print(\"Training finished in %fs\"%time_training)\n",
        "  return W,H,time_training"
      ],
      "id": "HrxhNv4Bote-"
    },
    {
      "cell_type": "code",
      "execution_count": null,
      "metadata": {
        "id": "efYD_oB3L2oG",
        "colab": {
          "base_uri": "https://localhost:8080/",
          "height": 319
        },
        "outputId": "9e59d7bd-362f-4b7f-849d-10c6f1a5f84b"
      },
      "outputs": [
        {
          "output_type": "stream",
          "name": "stdout",
          "text": [
            "step is: 1004\n",
            "Training finished in 60.716153s\n"
          ]
        },
        {
          "output_type": "execute_result",
          "data": {
            "text/plain": [
              "<matplotlib.image.AxesImage at 0x7ffa295a7510>"
            ]
          },
          "metadata": {},
          "execution_count": 32
        },
        {
          "output_type": "display_data",
          "data": {
            "text/plain": [
              "<Figure size 432x288 with 1 Axes>"
            ],
            "image/png": "[encoded data removed]"
          },
          "metadata": {
            "needs_background": "light"
          }
        }
      ],
      "source": [
        "#Testing NMF function code\n",
        "W,H,time_training = nmf_function(V_list[1],Y_hat)\n",
        "plt.imshow(W.dot(H)[:,100].reshape(image_shape), cmap=plt.cm.gray)"
      ],
      "id": "efYD_oB3L2oG"
    },
    {
      "cell_type": "markdown",
      "metadata": {
        "id": "RY_D1eoApjon"
      },
      "source": [
        "### 4.2 Hypersurface Cost NMF"
      ],
      "id": "RY_D1eoApjon"
    },
    {
      "cell_type": "code",
      "execution_count": null,
      "metadata": {
        "id": "g1Vu9Ow5mCcM"
      },
      "outputs": [],
      "source": [
        "#Function to calculate the value of the matrix update, indepenent of the learning rate\n",
        "def hcnmf_update(R, P, Q):\n",
        "  P_new = ((\n",
        "            (P.dot(Q).dot(Q.T) - (R.dot(Q.T)))\n",
        "            /(np.sqrt(1+np.sum(R - (P.dot(Q)))**2))\n",
        "          ))\n",
        "  \n",
        "  Q_new = ((\n",
        "            ((P.T).dot(P).dot(Q) - ((P.T).dot(R)))\n",
        "            /(np.sqrt(1+np.sum(R-(P.dot(Q)))**2))\n",
        "          ))\n",
        "  \n",
        "  return P_new, Q_new\n",
        "\n",
        "#Additive updating function with dynamic learning rates alpha and beta\n",
        "def hcnmf_train(R, steps, alpha, beta,Y_hat,random_seed = 1): # P, Q\n",
        "\n",
        "  #First, initialise the matrices as random, as done in the NMF function\n",
        "  N = len(R)\n",
        "  M = len(R[0])\n",
        "  K = len(set(Y_hat))  #set number of new dimensions\n",
        "\n",
        "  rng = np.random.RandomState(random_seed)\n",
        "  P = rng.rand(N,K)\n",
        "  Q = rng.rand(K,M)\n",
        "  time_start = time()\n",
        "\n",
        "  loss = [100000] \n",
        "  count = 0\n",
        "\n",
        "  time_start = time()\n",
        "  while(loss[count] > 1e-5) and (count < steps):\n",
        "    P_t, Q_t = hcnmf_update(R, P=P, Q=Q) \n",
        "    P = P - (P_t * alpha)\n",
        "    Q = Q - (Q_t * beta)\n",
        "    l = np.sum((R-P.dot(Q))**2)\n",
        "    loss.append(l)\n",
        "    count+=1\n",
        "  time_training = (time() - time_start)\n",
        "  print(\"step is:\",count)\n",
        "  print(\"Training finished in %fs\"%time_training)\n",
        "  return P, Q, loss, count,time_training"
      ],
      "id": "g1Vu9Ow5mCcM"
    },
    {
      "cell_type": "markdown",
      "source": [
        "#### HCNMF with Armijo rule **This part is only for showing Armijo rule, please do not run this part**\n",
        "\n",
        "**[Notice: this part is yet to be verified because of very high computational complexity]**"
      ],
      "metadata": {
        "id": "YsyDp-huwCed"
      },
      "id": "YsyDp-huwCed"
    },
    {
      "cell_type": "code",
      "source": [
        "#Function to calculate the value of the matrix update, indepenent of the learning rate\n",
        "def hcnmf_update(R, P, Q):\n",
        "  P_new = ((\n",
        "            (P.dot(Q).dot(Q.T) - (R.dot(Q.T)))\n",
        "            /(np.sqrt(1+np.sum(R - (P.dot(Q)))**2))\n",
        "          ))\n",
        "  \n",
        "  Q_new = ((\n",
        "            ((P.T).dot(P).dot(Q) - ((P.T).dot(R)))\n",
        "            /(np.sqrt(1+np.sum(R-(P.dot(Q)))**2))\n",
        "          ))\n",
        "  \n",
        "  return P_new, Q_new\n",
        "\n",
        "def armijo_check_P(P_t, step_size,alpha,R,P,Q): \n",
        "    variance =  0.5*(np.sqrt(1+np.linalg.norm(R-P.dot(Q)))-1)\n",
        "    update_P = P-step_size*P_t\n",
        "    update_variance = 0.5 * (np.sqrt(1 + np.linalg.norm(R - update_P @ Q)) - 1)\n",
        "    if update_variance-variance <= -step_size * alpha * np.linalg.norm(P_t) ** 2:\n",
        "        return True\n",
        "    return False\n",
        "\n",
        "def armijo_check_Q(Q_t, step_size,alpha,R,P,Q): \n",
        "    variance =  0.5*(np.sqrt(1+np.linalg.norm(R-P.dot(Q)))-1)\n",
        "    update_Q = P-step_size*Q_t\n",
        "    update_variance = 0.5 * (np.sqrt(1 + np.linalg.norm(R - P @ update_Q)) - 1)\n",
        "    if update_variance-variance <= -step_size * alpha * np.linalg.norm(Q_t) ** 2:\n",
        "        return True\n",
        "    return False\n",
        "\n",
        "#alpha updating rule\n",
        "def alpha_update(P_t,initial_step,alpha,beta,R,P,Q):\n",
        "    #Find armijo coefficient for updating P in this iteration\n",
        "    step_size  = initial_step\n",
        "    while not armijo_check_P(P_t, step_size,alpha,R,P,Q):\n",
        "        step_size = step_size*beta\n",
        "    return step_size\n",
        "    \n",
        "#beta updating rule\n",
        "def beta_update(Q_t,initial_step,alpha,beta,R,P,Q):\n",
        "    #Find armijo coefficient for updating P in this iteration\n",
        "    step_size  = initial_step\n",
        "    while not armijo_check_Q(Q_t, step_size,alpha,R,P,Q):\n",
        "        step_size = step_size*beta\n",
        "    print('4.2')\n",
        "    return step_size\n",
        "\n",
        "#Additive updating function with dynamic learning rates alpha and beta\n",
        "def hcnmf_train(R, steps, alpha, beta,Y_hat,random_seed = 1): # P, Q\n",
        "\n",
        "  #First, initialise the matrices as random, as done in the NMF function\n",
        "  N = len(R)\n",
        "  M = len(R[0])\n",
        "  K = len(set(Y_hat))  #set number of new dimensions\n",
        "\n",
        "  initial_alpha = 1\n",
        "  initial_beta  = 1\n",
        "  initial_step = 0.1\n",
        "\n",
        "  rng = np.random.RandomState(random_seed)\n",
        "  P = rng.rand(N,K)\n",
        "  Q = rng.rand(K,M)\n",
        "  time_start = time()\n",
        "\n",
        "  loss = [100000] \n",
        "  count = 0\n",
        "\n",
        "  time_start = time()\n",
        "  while(count < steps):\n",
        "    P_t, Q_t = hcnmf_update(R, P=P, Q=Q) \n",
        "    \n",
        "    alpha = alpha_update(P_t,initial_step,alpha,beta,R,P,Q)\n",
        "\n",
        "    P = P - (P_t * alpha)\n",
        "    \n",
        "    beta = beta_update(Q_t,initial_step,alpha,beta,R,P,Q)\n",
        "\n",
        "    Q = Q - (Q_t * beta)\n",
        "    l = np.sum((R-P.dot(Q))**2)\n",
        "    # print(l)\n",
        "    loss.append(l)\n",
        "    count+=1\n",
        "  time_training = (time() - time_start)\n",
        "  print(\"Training finished in %fs\"%time_training)\n",
        "  return P, Q, loss, count,time_training"
      ],
      "metadata": {
        "id": "X5t5z3wjwJbA"
      },
      "id": "X5t5z3wjwJbA",
      "execution_count": null,
      "outputs": []
    },
    {
      "cell_type": "markdown",
      "source": [
        "####Testing HCNMF performance based on different alpha and beta"
      ],
      "metadata": {
        "id": "UbPrQ8tzxPHM"
      },
      "id": "UbPrQ8tzxPHM"
    },
    {
      "cell_type": "code",
      "execution_count": null,
      "metadata": {
        "id": "h6fqwPyGgYDv",
        "colab": {
          "base_uri": "https://localhost:8080/",
          "height": 319
        },
        "outputId": "b75b1b2e-4442-42cd-f700-2b784818652d"
      },
      "outputs": [
        {
          "output_type": "stream",
          "name": "stdout",
          "text": [
            "step is: 3000\n",
            "Training finished in 369.494880s\n"
          ]
        },
        {
          "output_type": "execute_result",
          "data": {
            "text/plain": [
              "<matplotlib.image.AxesImage at 0x7ffa2a458850>"
            ]
          },
          "metadata": {},
          "execution_count": 40
        },
        {
          "output_type": "display_data",
          "data": {
            "text/plain": [
              "<Figure size 432x288 with 1 Axes>"
            ],
            "image/png": "[encoded data removed]"
          },
          "metadata": {
            "needs_background": "light"
          }
        }
      ],
      "source": [
        "#Testing Perform training\n",
        "P, Q, loss,count,time_training = hcnmf_train(V_list[1], 3000, 0.8, 0.8,Y_hat,random_seed = 1)\n",
        "plt.imshow(P.dot(Q)[:,100].reshape(image_shape), cmap=plt.cm.gray)"
      ],
      "id": "h6fqwPyGgYDv"
    },
    {
      "cell_type": "code",
      "source": [
        "plt.figure(figsize=(15,18))\n",
        "for i in range(20):\n",
        "    plt.subplot(1, 20, i+1)\n",
        "    plt.imshow(P.dot(Q)[:,i].reshape(image_shape), cmap=plt.cm.gray)\n",
        "    plt.xticks(())\n",
        "    plt.yticks(())"
      ],
      "metadata": {
        "id": "-nTQVyAyRQm3",
        "colab": {
          "base_uri": "https://localhost:8080/",
          "height": 75
        },
        "outputId": "416e9c30-8762-4b33-d059-9618ec5ff336"
      },
      "id": "-nTQVyAyRQm3",
      "execution_count": null,
      "outputs": [
        {
          "output_type": "display_data",
          "data": {
            "text/plain": [
              "<Figure size 1080x1296 with 20 Axes>"
            ],
            "image/png": "[encoded data removed]"
          },
          "metadata": {}
        }
      ]
    },
    {
      "cell_type": "code",
      "source": [
        "#Testing Perform training\n",
        "P, Q, loss,count,time_training = hcnmf_train(V_list[1], 3000, 1, 1,Y_hat,random_seed = 1)\n",
        "plt.imshow(P.dot(Q)[:,100].reshape(image_shape), cmap=plt.cm.gray)"
      ],
      "metadata": {
        "colab": {
          "base_uri": "https://localhost:8080/",
          "height": 319
        },
        "id": "8zFt0lxWUw_3",
        "outputId": "14c0a7c9-9bd5-492e-efaa-02b0dafd7e23"
      },
      "id": "8zFt0lxWUw_3",
      "execution_count": null,
      "outputs": [
        {
          "output_type": "stream",
          "name": "stdout",
          "text": [
            "step is: 3000\n",
            "Training finished in 367.099704s\n"
          ]
        },
        {
          "output_type": "execute_result",
          "data": {
            "text/plain": [
              "<matplotlib.image.AxesImage at 0x7ffa2a59b890>"
            ]
          },
          "metadata": {},
          "execution_count": 42
        },
        {
          "output_type": "display_data",
          "data": {
            "text/plain": [
              "<Figure size 432x288 with 1 Axes>"
            ],
            "image/png": "[encoded data removed]"
          },
          "metadata": {
            "needs_background": "light"
          }
        }
      ]
    },
    {
      "cell_type": "code",
      "source": [
        "plt.figure(figsize=(15,18))\n",
        "for i in range(20):\n",
        "    plt.subplot(1, 20, i+1)\n",
        "    plt.imshow(P.dot(Q)[:,i].reshape(image_shape), cmap=plt.cm.gray)\n",
        "    plt.xticks(())\n",
        "    plt.yticks(())"
      ],
      "metadata": {
        "colab": {
          "base_uri": "https://localhost:8080/",
          "height": 75
        },
        "id": "JML5-GagWVFh",
        "outputId": "01d26102-679b-4285-af7d-d324d40f8911"
      },
      "id": "JML5-GagWVFh",
      "execution_count": null,
      "outputs": [
        {
          "output_type": "display_data",
          "data": {
            "text/plain": [
              "<Figure size 1080x1296 with 20 Axes>"
            ],
            "image/png": "[encoded data removed]"
          },
          "metadata": {}
        }
      ]
    },
    {
      "cell_type": "markdown",
      "metadata": {
        "id": "chkBHtKFaL9F"
      },
      "source": [
        "###4.3 L2,1 NMF"
      ],
      "id": "chkBHtKFaL9F"
    },
    {
      "cell_type": "code",
      "execution_count": null,
      "metadata": {
        "id": "O2J4vqmSaNIf"
      },
      "outputs": [],
      "source": [
        "def l12nmf_update(V, W, H, steps=5000):\n",
        "    for step in range(steps):\n",
        "        D = np.diag(1/np.sqrt(np.sum(np.square(V-W@H),axis=0)))\n",
        "        \n",
        "        Wu = W*(V@D@(H.T))/(W@H@D@(H.T))+1e-10\n",
        "        Hu = H*((W.T)@V@D)/((W.T)@W@H@D)+1e-10\n",
        "        \n",
        "        e_W = np.sqrt(np.sum((Wu-W)**2, axis=(0,1)))/W.size  \n",
        "        e_H = np.sqrt(np.sum((Hu-H)**2, axis=(0,1)))/H.size\n",
        "        if e_W<1e-5 and e_H<1e-5:\n",
        "            print(\"step is:\",step)\n",
        "            break\n",
        "        W = Wu\n",
        "        H = Hu\n",
        "    return W, H\n",
        "\n",
        "def l12nmf_train(V,Y_hat,random_seed = 1):\n",
        "\n",
        "  rng = np.random.RandomState(random_seed)\n",
        "  \n",
        "  N = len(V)\n",
        "  M = len(V[0])\n",
        "  K = len(set(Y_hat))  \n",
        "\n",
        "  W = rng.rand(N,K)\n",
        "  H = rng.rand(K,M)\n",
        "  time_start = time()\n",
        "  \n",
        "  W, H = l12nmf_update(V = V, W = W, H = H)\n",
        "  \n",
        "  time_training = (time() - time_start)\n",
        "  print(\"Training finished in %fs\"%time_training)\n",
        "  return W,H,time_training"
      ],
      "id": "O2J4vqmSaNIf"
    },
    {
      "cell_type": "code",
      "source": [
        "#Testing Perform training\n",
        "W, H, time_training = l12nmf_train(V=V_hat,Y_hat=Y_hat,random_seed = 1)"
      ],
      "metadata": {
        "id": "PJkzjAAJTC_E"
      },
      "id": "PJkzjAAJTC_E",
      "execution_count": null,
      "outputs": []
    },
    {
      "cell_type": "code",
      "source": [
        "plt.figure(figsize=(15,18))\n",
        "for i in range(20):\n",
        "    plt.subplot(1, 20, i+1)\n",
        "    plt.imshow(W.dot(H)[:,i].reshape(image_shape), cmap=plt.cm.gray)\n",
        "    plt.xticks(())\n",
        "    plt.yticks(())"
      ],
      "metadata": {
        "id": "N4lmaAR0TCC0"
      },
      "id": "N4lmaAR0TCC0",
      "execution_count": null,
      "outputs": []
    },
    {
      "cell_type": "markdown",
      "metadata": {
        "id": "1bKTiAjfp7iU"
      },
      "source": [
        "## 5.0 Function to repeat experiments"
      ],
      "id": "1bKTiAjfp7iU"
    },
    {
      "cell_type": "markdown",
      "metadata": {
        "id": "gMOCzrhHp_9U"
      },
      "source": [
        "Input: Original data V_hat & Y_hat, and noisy data V_noise\n",
        "Output: \n",
        "- Average and standard deviation of the performance metrics\n",
        "- Learned W and H"
      ],
      "id": "gMOCzrhHp_9U"
    },
    {
      "cell_type": "code",
      "execution_count": null,
      "metadata": {
        "id": "ZlRwtQBPqBCB"
      },
      "outputs": [],
      "source": [
        "def Crossvalidation(V_hat, Y_hat, V_noise, times,nmf_method):\n",
        "    # sum_rre,sum_acc,sum_nmi= 0,0,0\n",
        "\n",
        "    rre_list = []\n",
        "    acc_list = []\n",
        "    nmi_list = []\n",
        "\n",
        "    #randomly choose index from\n",
        "    for i in range(times):\n",
        "        #start = int(i*(len(Y_hat)/fold))\n",
        "        #end = int((i+1)*(len(Y_hat)/fold))\n",
        "        index = np.random.choice(int(len(Y_hat)),int(len(Y_hat)*0.9),replace=False)\n",
        "\n",
        "        \n",
        "        train_data = V_hat[:,index]\n",
        "        train_Y = Y_hat[index]\n",
        "        train_data_noise = V_noise[:,index]\n",
        "        \n",
        "        if nmf_method == \"NMF\":\n",
        "          W, H, time_training = nmf_function(V=train_data_noise,Y_hat=train_Y,random_seed = 1)\n",
        "        elif nmf_method == \"HCNMF\":\n",
        "          W, H, loss,count,time_training = hcnmf_train(train_data_noise, 3000, 1, 1,train_Y,random_seed = 1) #input different parameters\n",
        "        elif nmf_method == \"L21NMF\":\n",
        "          W, H, time_training = l12nmf_train(V=train_data_noise,Y_hat=train_Y,random_seed = 1)\n",
        "          \n",
        "        each_rre, each_acc, each_nmi = evaluate_metrics(V_hat=train_data,Y_hat=train_Y,H=H,W=W)\n",
        "        print('Turn:',i+1,'RRE=',each_rre,'ACC=',each_acc,'NMI=',each_nmi)\n",
        "\n",
        "        if each_rre > 99999:\n",
        "          print(\"results does not converge, discard results\")\n",
        "        else:  \n",
        "          rre_list.append(each_rre)\n",
        "          acc_list.append(each_acc)\n",
        "          nmi_list.append(each_nmi)\n",
        "\n",
        "    avg_rre = np.average(rre_list)\n",
        "    avg_acc = np.average(acc_list)\n",
        "    avg_nmi = np.average(nmi_list)\n",
        "\n",
        "    std_rre = np.std(rre_list)\n",
        "    std_acc = np.std(acc_list)\n",
        "    std_nmi = np.std(nmi_list)\n",
        "\n",
        "    return avg_rre,avg_acc,avg_nmi,std_rre,std_acc,std_nmi\n",
        "    # return rre_list,acc_list,nmi_list"
      ],
      "id": "ZlRwtQBPqBCB"
    },
    {
      "cell_type": "markdown",
      "source": [
        "Test the cross validation function:"
      ],
      "metadata": {
        "id": "9iqRv78n5Dje"
      },
      "id": "9iqRv78n5Dje"
    },
    {
      "cell_type": "markdown",
      "metadata": {
        "id": "VR_-0nz5qCW8"
      },
      "source": [
        "Call add_noise function here to get V_noise"
      ],
      "id": "VR_-0nz5qCW8"
    },
    {
      "cell_type": "code",
      "execution_count": null,
      "metadata": {
        "id": "u_Q6s4q7qERO"
      },
      "outputs": [],
      "source": [
        "V_noise=add_noise(V_hat, \"s&p\", 0.05)"
      ],
      "id": "u_Q6s4q7qERO"
    },
    {
      "cell_type": "markdown",
      "metadata": {
        "id": "SwgCpukOqFtM"
      },
      "source": [
        "Call Crossvalidation function, get avg_rre, avg_acc and avg_nmi three values"
      ],
      "id": "SwgCpukOqFtM"
    },
    {
      "cell_type": "code",
      "execution_count": null,
      "metadata": {
        "id": "2q5Wl8jtqIDm"
      },
      "outputs": [],
      "source": [
        "avg_rre,avg_acc,avg_nmi,std_rre,std_acc,std_nmi = Crossvalidation(V_hat=V_hat, Y_hat=Y_hat, V_noise=V_noise, times=3,nmf_method = \"NMF\")\n",
        "print('average_REE and SD:',avg_rre,std_rre,'average&SD ACC:',avg_acc,std_acc,'average_NMI:',avg_nmi,std_nmi)"
      ],
      "id": "2q5Wl8jtqIDm"
    },
    {
      "cell_type": "code",
      "execution_count": null,
      "metadata": {
        "id": "0vD8WSRihlSn",
        "colab": {
          "base_uri": "https://localhost:8080/"
        },
        "outputId": "8f2a407b-9f95-4584-9df4-1008d1a2f91a"
      },
      "outputs": [
        {
          "output_type": "stream",
          "name": "stdout",
          "text": [
            "step is: 1000\n",
            "Training finished in 136.505442s\n",
            "Turn: 1 RRE= 0.7922672084099386 ACC= 0.08839779005524862 NMI= 0.09105674752376677\n",
            "step is: 1000\n",
            "Training finished in 131.242850s\n",
            "Turn: 2 RRE= 0.7923762185490533 ACC= 0.0925414364640884 NMI= 0.10313900474391659\n",
            "step is: 1000\n",
            "Training finished in 136.545246s\n",
            "Turn: 3 RRE= 0.7934038669414063 ACC= 0.09208103130755065 NMI= 0.0849288377286495\n",
            "step is: 1000\n",
            "Training finished in 129.347522s\n",
            "Turn: 4 RRE= 0.7929210087256268 ACC= 0.08701657458563536 NMI= 0.0949339794335822\n",
            "step is: 1000\n",
            "Training finished in 128.943453s\n",
            "Turn: 5 RRE= 0.7928942871300576 ACC= 0.09023941068139964 NMI= 0.09465254063124355\n",
            "average_REE and SD: 0.7927725179512165 0.0004117935742761681 average&SD ACC: 0.09005524861878453 0.0021118498970865048 average_NMI: 0.00592344506523433\n"
          ]
        }
      ],
      "source": [
        "avg_rre,avg_acc,avg_nmi,std_rre,std_acc,std_nmi= Crossvalidation(V_hat=V_hat, Y_hat=Y_hat, V_noise=V_list[1], times=5,nmf_method = \"HCNMF\")\n",
        "print('average_REE and SD:',avg_rre,std_rre,'average&SD ACC:',avg_acc,std_acc,'average_NMI:',avg_nmi,std_nmi)"
      ],
      "id": "0vD8WSRihlSn"
    },
    {
      "cell_type": "markdown",
      "metadata": {
        "id": "3VfmmCEua9lu"
      },
      "source": [
        "Call \"L12NMF\" function here"
      ],
      "id": "3VfmmCEua9lu"
    },
    {
      "cell_type": "code",
      "execution_count": null,
      "metadata": {
        "id": "1FG2CqTLbCiT"
      },
      "outputs": [],
      "source": [
        "avg_rre,avg_acc,avg_nmi,std_rre,std_acc,std_nmi = Crossvalidation(V_hat=V_hat, Y_hat=Y_hat, V_noise=V_list[1], times=5,nmf_method = \"L21NMF\")"
      ],
      "id": "1FG2CqTLbCiT"
    },
    {
      "cell_type": "markdown",
      "metadata": {
        "id": "fffbT7GeKS6C"
      },
      "source": [
        "## 6.0 Experiment Results Comparison\n"
      ],
      "id": "fffbT7GeKS6C"
    },
    {
      "cell_type": "markdown",
      "source": [
        "### 6.1 Experiment for NMF"
      ],
      "metadata": {
        "id": "5d7XiFOwyFxp"
      },
      "id": "5d7XiFOwyFxp"
    },
    {
      "cell_type": "code",
      "execution_count": null,
      "metadata": {
        "id": "hPYztrvw4rhe"
      },
      "outputs": [],
      "source": [
        "W_list = []\n",
        "H_list = []\n",
        "avg_rre_list = []\n",
        "avg_acc_list = []\n",
        "avg_nmi_list = []\n",
        "std_rre_list = []\n",
        "std_acc_list = []\n",
        "std_nmi_list = []\n",
        "nmf_method_list = []\n",
        "# time_training_list =[]\n",
        "\n",
        "np.random.seed(0)\n",
        "\n",
        "#Apply Traditional NMF function\n",
        "for i, V in enumerate(V_list):\n",
        "\n",
        "    print('==> Apply NMF for',noise_scenario_name[i])\n",
        "\n",
        "    # print('==> Evaluate RRE, Acc and NMI ...')\n",
        "    avg_rre,avg_acc,avg_nmi,std_rre,std_acc,std_nmi  = Crossvalidation(V_hat=V_hat, Y_hat=Y_hat, V_noise=V, times=5,nmf_method = \"NMF\")\n",
        "    print('RRE = {:.4f},{:.4f}, acc = {:.4f},{:.4f}, nmi = {:.4f},{:.4f}'.format(avg_rre,std_rre,avg_acc,std_acc,avg_nmi,std_nmi))\n",
        "\n",
        "    #Output an example of the reconstructive image\n",
        "    W,H,time_training = nmf_function(V=V_list[i],Y_hat = Y_hat)\n",
        "\n",
        "    #Creat a output list\n",
        "    nmf_method_list = nmf_method_list + [\"NMF\"]\n",
        "    W_list.append(W)\n",
        "    H_list.append(H)\n",
        "    avg_rre_list.append(avg_rre)\n",
        "    avg_acc_list.append(avg_acc)\n",
        "    avg_nmi_list.append(avg_nmi)\n",
        "    std_rre_list.append(std_rre)\n",
        "    std_acc_list.append(std_acc)\n",
        "    std_nmi_list.append(std_nmi)\n",
        "    # time_training_list.append(time_training)"
      ],
      "id": "hPYztrvw4rhe"
    },
    {
      "cell_type": "markdown",
      "source": [
        "Create table of Standard NMF here"
      ],
      "metadata": {
        "id": "j35IOuAux-SQ"
      },
      "id": "j35IOuAux-SQ"
    },
    {
      "cell_type": "code",
      "execution_count": null,
      "metadata": {
        "id": "gF5WrEZ48FXP"
      },
      "outputs": [],
      "source": [
        "import pandas as pd\n",
        "evaluation_metrics_table_NMF = pd.DataFrame(\n",
        "    list(zip(\n",
        "    noise_scenario_name,\n",
        "    nmf_method_list,\n",
        "    avg_rre_list,\n",
        "    avg_acc_list,\n",
        "    avg_nmi_list,\n",
        "    std_rre_list,\n",
        "    std_acc_list,\n",
        "    std_nmi_list)),\n",
        "    columns  = ['Noise Type','NMF Method','Avg_RRE','Avg_Accuracy','Avg_NMI','std_RRE','std_Accuracy','std_NMI']\n",
        ")\n",
        "evaluation_metrics_table_NMF"
      ],
      "id": "gF5WrEZ48FXP"
    },
    {
      "cell_type": "markdown",
      "source": [
        "Download the table as csv file"
      ],
      "metadata": {
        "id": "VAHO5wzkySV8"
      },
      "id": "VAHO5wzkySV8"
    },
    {
      "cell_type": "code",
      "source": [
        "from google.colab import files\n",
        "evaluation_metrics_table_NMF.to_csv('evaluation_metrics_table_NMF_YaleB.csv') \n",
        "files.download('evaluation_metrics_table_NMF_YaleB.csv')"
      ],
      "metadata": {
        "id": "FVC6E7Zfc-Tb"
      },
      "id": "FVC6E7Zfc-Tb",
      "execution_count": null,
      "outputs": []
    },
    {
      "cell_type": "markdown",
      "source": [
        "### 6.2 Experiment for HCNMF"
      ],
      "metadata": {
        "id": "QgF9Yq0fx7At"
      },
      "id": "QgF9Yq0fx7At"
    },
    {
      "cell_type": "code",
      "execution_count": null,
      "metadata": {
        "id": "OiRofdgHkaCo",
        "colab": {
          "base_uri": "https://localhost:8080/"
        },
        "outputId": "ea049f83-760e-4081-fdab-50b9b2cc955f"
      },
      "outputs": [
        {
          "output_type": "stream",
          "name": "stdout",
          "text": [
            "==> Apply HCNMF for Origin\n",
            "step is: 3000\n",
            "Training finished in 393.195398s\n",
            "Turn: 1 RRE= 0.15949018302012952 ACC= 0.23802946593001842 NMI= 0.31165934687165714\n",
            "step is: 3000\n",
            "Training finished in 390.359074s\n",
            "Turn: 2 RRE= 0.16036820533138307 ACC= 0.23296500920810312 NMI= 0.30360926248189\n",
            "step is: 3000\n",
            "Training finished in 394.518642s\n",
            "Turn: 3 RRE= 0.1597427538101398 ACC= 0.22375690607734808 NMI= 0.3003453009403737\n",
            "RRE = 0.1599,0.0004, acc = 0.2316,0.0059, nmi = 0.3052,0.0048\n",
            "==> Apply HCNMF for block_10\n",
            "step is: 3000\n",
            "Training finished in 400.446769s\n",
            "Turn: 1 RRE= 0.453022278743799 ACC= 0.0943830570902394 NMI= 0.09537169052414618\n",
            "step is: 3000\n",
            "Training finished in 397.145813s\n",
            "Turn: 2 RRE= 0.4508808794713996 ACC= 0.09668508287292818 NMI= 0.08917245231196086\n",
            "step is: 3000\n",
            "Training finished in 393.263308s\n",
            "Turn: 3 RRE= 0.45385438810744716 ACC= 0.10128913443830571 NMI= 0.1066661544159058\n",
            "RRE = 0.4526,0.0013, acc = 0.0975,0.0029, nmi = 0.0971,0.0072\n",
            "==> Apply HCNMF for block_12\n"
          ]
        },
        {
          "output_type": "stream",
          "name": "stderr",
          "text": [
            "/usr/local/lib/python3.7/dist-packages/numpy/core/fromnumeric.py:86: RuntimeWarning: overflow encountered in reduce\n",
            "  return ufunc.reduce(obj, axis, dtype, out, **passkwargs)\n",
            "/usr/local/lib/python3.7/dist-packages/ipykernel_launcher.py:5: RuntimeWarning: overflow encountered in double_scalars\n",
            "  \"\"\"\n",
            "/usr/local/lib/python3.7/dist-packages/ipykernel_launcher.py:10: RuntimeWarning: overflow encountered in double_scalars\n",
            "  # Remove the CWD from sys.path while we load stuff.\n"
          ]
        },
        {
          "output_type": "stream",
          "name": "stdout",
          "text": [
            "step is: 3000\n",
            "Training finished in 395.188944s\n",
            "Turn: 1 RRE= inf ACC= 0.09023941068139964 NMI= 0.0962404590443221\n",
            "results does not converge, discard results\n",
            "step is: 3000\n",
            "Training finished in 393.556405s\n",
            "Turn: 2 RRE= 0.5432273601017356 ACC= 0.10220994475138122 NMI= 0.11060089326342555\n",
            "step is: 3000\n",
            "Training finished in 396.992479s\n",
            "Turn: 3 RRE= 0.5428605134617616 ACC= 0.09760589318600368 NMI= 0.09017391622888661\n",
            "RRE = 0.5430,0.0002, acc = 0.0999,0.0023, nmi = 0.1004,0.0102\n",
            "==> Apply HCNMF for block_14\n",
            "step is: 3000\n",
            "Training finished in 394.337612s\n",
            "Turn: 1 RRE= 0.6320607458937698 ACC= 0.0916206261510129 NMI= 0.0846052563778392\n",
            "step is: 3000\n",
            "Training finished in 397.606538s\n",
            "Turn: 2 RRE= 0.636060762947509 ACC= 0.09023941068139964 NMI= 0.07967097231676921\n",
            "step is: 3000\n",
            "Training finished in 396.622483s\n",
            "Turn: 3 RRE= 0.6365089468977971 ACC= 0.08885819521178637 NMI= 0.09409658525448292\n",
            "RRE = 0.6349,0.0020, acc = 0.0902,0.0011, nmi = 0.0861,0.0060\n",
            "==> Apply HCNMF for s&p_5%\n",
            "step is: 3000\n",
            "Training finished in 395.869996s\n",
            "Turn: 1 RRE= 0.1808238903468344 ACC= 0.22790055248618785 NMI= 0.2822583098748931\n",
            "step is: 3000\n",
            "Training finished in 397.790497s\n",
            "Turn: 2 RRE= 0.1809007868373082 ACC= 0.23250460405156537 NMI= 0.30062244131709054\n",
            "step is: 3000\n",
            "Training finished in 398.530547s\n",
            "Turn: 3 RRE= 0.18028630084654637 ACC= 0.20994475138121546 NMI= 0.29897774409961336\n",
            "RRE = 0.1807,0.0003, acc = 0.2234,0.0097, nmi = 0.2940,0.0083\n",
            "==> Apply HCNMF for s&p_10%\n",
            "step is: 3000\n",
            "Training finished in 395.247103s\n",
            "Turn: 1 RRE= 0.2076750355826177 ACC= 0.20441988950276244 NMI= 0.2983392418126742\n",
            "step is: 3000\n",
            "Training finished in 393.111551s\n",
            "Turn: 2 RRE= 0.2082565619045135 ACC= 0.2076427255985267 NMI= 0.28540162014752707\n",
            "step is: 3000\n",
            "Training finished in 395.675025s\n",
            "Turn: 3 RRE= 0.2079207959054735 ACC= 0.22375690607734808 NMI= 0.30472451375849335\n",
            "RRE = 0.2080,0.0002, acc = 0.2119,0.0085, nmi = 0.2962,0.0080\n",
            "==> Apply HCNMF for s&p_20%\n",
            "step is: 3000\n",
            "Training finished in 397.775476s\n",
            "Turn: 1 RRE= 0.2693120480781757 ACC= 0.1998158379373849 NMI= 0.28780325425380304\n",
            "step is: 3000\n",
            "Training finished in 395.631715s\n",
            "Turn: 2 RRE= 0.27289237909548086 ACC= 0.20303867403314918 NMI= 0.2781666220414789\n",
            "step is: 3000\n",
            "Training finished in 394.173355s\n",
            "Turn: 3 RRE= 0.2727237509544969 ACC= 0.20810313075506445 NMI= 0.28348849720411834\n",
            "RRE = 0.2716,0.0016, acc = 0.2037,0.0034, nmi = 0.2832,0.0039\n"
          ]
        }
      ],
      "source": [
        "W_list_HCNMF = []\n",
        "H_list_HCNMF = []\n",
        "avg_rre_list_HCNMF = []\n",
        "avg_acc_list_HCNMF = []\n",
        "avg_nmi_list_HCNMF = []\n",
        "std_rre_list_HCNMF = []\n",
        "std_acc_list_HCNMF = []\n",
        "std_nmi_list_HCNMF = []\n",
        "nmf_method_list_HCNMF = []\n",
        "# time_training_list =[]\n",
        "\n",
        "#Apply HCNMF function\n",
        "for i, V in enumerate(V_list):\n",
        "\n",
        "    print('==> Apply HCNMF for',noise_scenario_name[i])\n",
        "\n",
        "    # print('==> Evaluate RRE, Acc and NMI ...')\n",
        "    avg_rre,avg_acc,avg_nmi,std_rre,std_acc,std_nmi  = Crossvalidation(V_hat=V_hat, Y_hat=Y_hat, V_noise=V, times=3,nmf_method = \"HCNMF\")\n",
        "    print('RRE = {:.4f},{:.4f}, acc = {:.4f},{:.4f}, nmi = {:.4f},{:.4f}'.format(avg_rre,std_rre,avg_acc,std_acc,avg_nmi,std_nmi))\n",
        "\n",
        "    #Output an example of the reconstructive image\n",
        "    W, H, loss,count,time_training = hcnmf_train(V_list[i], 3000, 1, 1,Y_hat,random_seed = 1)\n",
        "\n",
        "    #Creat a output list\n",
        "    nmf_method_list_HCNMF = nmf_method_list_HCNMF + [\"HCNMF\"]\n",
        "    W_list_HCNMF.append(W)\n",
        "    H_list_HCNMF.append(H)\n",
        "    avg_rre_list_HCNMF.append(avg_rre)\n",
        "    avg_acc_list_HCNMF.append(avg_acc)\n",
        "    avg_nmi_list_HCNMF.append(avg_nmi)\n",
        "    std_rre_list_HCNMF.append(std_rre)\n",
        "    std_acc_list_HCNMF.append(std_acc)\n",
        "    std_nmi_list_HCNMF.append(std_nmi)\n",
        "    # time_training_list.append(time_training)"
      ],
      "id": "OiRofdgHkaCo"
    },
    {
      "cell_type": "markdown",
      "source": [
        "Create table of HCNMF here"
      ],
      "metadata": {
        "id": "VdUjr4P2x0Qw"
      },
      "id": "VdUjr4P2x0Qw"
    },
    {
      "cell_type": "code",
      "source": [
        "import pandas as pd\n",
        "evaluation_metrics_table_HCNMF = pd.DataFrame(\n",
        "    list(zip(\n",
        "    noise_scenario_name,\n",
        "    nmf_method_list_HCNMF,\n",
        "    avg_rre_list_HCNMF,\n",
        "    avg_acc_list_HCNMF,\n",
        "    avg_nmi_list_HCNMF,\n",
        "    std_rre_list_HCNMF,\n",
        "    std_acc_list_HCNMF,\n",
        "    std_nmi_list_HCNMF)),\n",
        "    columns  = ['Noise Type','NMF Method','Avg_RRE','Avg_Accuracy','Avg_NMI','std_RRE','std_Accuracy','std_NMI']\n",
        ")\n",
        "evaluation_metrics_table_HCNMF"
      ],
      "metadata": {
        "colab": {
          "base_uri": "https://localhost:8080/",
          "height": 269
        },
        "id": "iGh7MjKx5BBS",
        "outputId": "014eb0c1-dda0-47b5-88af-c0d07efd2008"
      },
      "id": "iGh7MjKx5BBS",
      "execution_count": null,
      "outputs": [
        {
          "output_type": "execute_result",
          "data": {
            "text/plain": [
              "  Noise Type NMF Method   Avg_RRE  Avg_Accuracy   Avg_NMI   std_RRE  \\\n",
              "0     Origin      HCNMF  0.159867      0.231584  0.305205  0.000369   \n",
              "1   block_10      HCNMF  0.452586      0.097452  0.097070  0.001253   \n",
              "2   block_12      HCNMF  0.543044      0.099908  0.100387  0.000183   \n",
              "3   block_14      HCNMF  0.634877      0.090239  0.086124  0.002000   \n",
              "4     s&p_5%      HCNMF  0.180670      0.223450  0.293953  0.000273   \n",
              "5    s&p_10%      HCNMF  0.207951      0.211940  0.296155  0.000238   \n",
              "6    s&p_20%      HCNMF  0.271643      0.203653  0.283153  0.001649   \n",
              "\n",
              "   std_Accuracy   std_NMI  \n",
              "0      0.005908  0.004755  \n",
              "1      0.002871  0.007242  \n",
              "2      0.002302  0.010213  \n",
              "3      0.001128  0.005986  \n",
              "4      0.009733  0.008296  \n",
              "5      0.008459  0.008038  \n",
              "6      0.003411  0.003941  "
            ],
            "text/html": [
              "\n",
              "  <div id=\"df-f94684b9-1ea1-4421-8c9e-18c3261c4e27\">\n",
              "    <div class=\"colab-df-container\">\n",
              "      <div>\n",
              "<style scoped>\n",
              "    .dataframe tbody tr th:only-of-type {\n",
              "        vertical-align: middle;\n",
              "    }\n",
              "\n",
              "    .dataframe tbody tr th {\n",
              "        vertical-align: top;\n",
              "    }\n",
              "\n",
              "    .dataframe thead th {\n",
              "        text-align: right;\n",
              "    }\n",
              "</style>\n",
              "<table border=\"1\" class=\"dataframe\">\n",
              "  <thead>\n",
              "    <tr style=\"text-align: right;\">\n",
              "      <th></th>\n",
              "      <th>Noise Type</th>\n",
              "      <th>NMF Method</th>\n",
              "      <th>Avg_RRE</th>\n",
              "      <th>Avg_Accuracy</th>\n",
              "      <th>Avg_NMI</th>\n",
              "      <th>std_RRE</th>\n",
              "      <th>std_Accuracy</th>\n",
              "      <th>std_NMI</th>\n",
              "    </tr>\n",
              "  </thead>\n",
              "  <tbody>\n",
              "    <tr>\n",
              "      <th>0</th>\n",
              "      <td>Origin</td>\n",
              "      <td>HCNMF</td>\n",
              "      <td>0.159867</td>\n",
              "      <td>0.231584</td>\n",
              "      <td>0.305205</td>\n",
              "      <td>0.000369</td>\n",
              "      <td>0.005908</td>\n",
              "      <td>0.004755</td>\n",
              "    </tr>\n",
              "    <tr>\n",
              "      <th>1</th>\n",
              "      <td>block_10</td>\n",
              "      <td>HCNMF</td>\n",
              "      <td>0.452586</td>\n",
              "      <td>0.097452</td>\n",
              "      <td>0.097070</td>\n",
              "      <td>0.001253</td>\n",
              "      <td>0.002871</td>\n",
              "      <td>0.007242</td>\n",
              "    </tr>\n",
              "    <tr>\n",
              "      <th>2</th>\n",
              "      <td>block_12</td>\n",
              "      <td>HCNMF</td>\n",
              "      <td>0.543044</td>\n",
              "      <td>0.099908</td>\n",
              "      <td>0.100387</td>\n",
              "      <td>0.000183</td>\n",
              "      <td>0.002302</td>\n",
              "      <td>0.010213</td>\n",
              "    </tr>\n",
              "    <tr>\n",
              "      <th>3</th>\n",
              "      <td>block_14</td>\n",
              "      <td>HCNMF</td>\n",
              "      <td>0.634877</td>\n",
              "      <td>0.090239</td>\n",
              "      <td>0.086124</td>\n",
              "      <td>0.002000</td>\n",
              "      <td>0.001128</td>\n",
              "      <td>0.005986</td>\n",
              "    </tr>\n",
              "    <tr>\n",
              "      <th>4</th>\n",
              "      <td>s&amp;p_5%</td>\n",
              "      <td>HCNMF</td>\n",
              "      <td>0.180670</td>\n",
              "      <td>0.223450</td>\n",
              "      <td>0.293953</td>\n",
              "      <td>0.000273</td>\n",
              "      <td>0.009733</td>\n",
              "      <td>0.008296</td>\n",
              "    </tr>\n",
              "    <tr>\n",
              "      <th>5</th>\n",
              "      <td>s&amp;p_10%</td>\n",
              "      <td>HCNMF</td>\n",
              "      <td>0.207951</td>\n",
              "      <td>0.211940</td>\n",
              "      <td>0.296155</td>\n",
              "      <td>0.000238</td>\n",
              "      <td>0.008459</td>\n",
              "      <td>0.008038</td>\n",
              "    </tr>\n",
              "    <tr>\n",
              "      <th>6</th>\n",
              "      <td>s&amp;p_20%</td>\n",
              "      <td>HCNMF</td>\n",
              "      <td>0.271643</td>\n",
              "      <td>0.203653</td>\n",
              "      <td>0.283153</td>\n",
              "      <td>0.001649</td>\n",
              "      <td>0.003411</td>\n",
              "      <td>0.003941</td>\n",
              "    </tr>\n",
              "  </tbody>\n",
              "</table>\n",
              "</div>\n",
              "      <button class=\"colab-df-convert\" onclick=\"convertToInteractive('df-f94684b9-1ea1-4421-8c9e-18c3261c4e27')\"\n",
              "              title=\"Convert this dataframe to an interactive table.\"\n",
              "              style=\"display:none;\">\n",
              "        \n",
              "  <svg xmlns=\"http://www.w3.org/2000/svg\" height=\"24px\"viewBox=\"0 0 24 24\"\n",
              "       width=\"24px\">\n",
              "    <path d=\"M0 0h24v24H0V0z\" fill=\"none\"/>\n",
              "    <path d=\"M18.56 5.44l.94 2.06.94-2.06 2.06-.94-2.06-.94-.94-2.06-.94 2.06-2.06.94zm-11 1L8.5 8.5l.94-2.06 2.06-.94-2.06-.94L8.5 2.5l-.94 2.06-2.06.94zm10 10l.94 2.06.94-2.06 2.06-.94-2.06-.94-.94-2.06-.94 2.06-2.06.94z\"/><path d=\"M17.41 7.96l-1.37-1.37c-.4-.4-.92-.59-1.43-.59-.52 0-1.04.2-1.43.59L10.3 9.45l-7.72 7.72c-.78.78-.78 2.05 0 2.83L4 21.41c.39.39.9.59 1.41.59.51 0 1.02-.2 1.41-.59l7.78-7.78 2.81-2.81c.8-.78.8-2.07 0-2.86zM5.41 20L4 18.59l7.72-7.72 1.47 1.35L5.41 20z\"/>\n",
              "  </svg>\n",
              "      </button>\n",
              "      \n",
              "  <style>\n",
              "    .colab-df-container {\n",
              "      display:flex;\n",
              "      flex-wrap:wrap;\n",
              "      gap: 12px;\n",
              "    }\n",
              "\n",
              "    .colab-df-convert {\n",
              "      background-color: #E8F0FE;\n",
              "      border: none;\n",
              "      border-radius: 50%;\n",
              "      cursor: pointer;\n",
              "      display: none;\n",
              "      fill: #1967D2;\n",
              "      height: 32px;\n",
              "      padding: 0 0 0 0;\n",
              "      width: 32px;\n",
              "    }\n",
              "\n",
              "    .colab-df-convert:hover {\n",
              "      background-color: #E2EBFA;\n",
              "      box-shadow: 0px 1px 2px rgba(60, 64, 67, 0.3), 0px 1px 3px 1px rgba(60, 64, 67, 0.15);\n",
              "      fill: #174EA6;\n",
              "    }\n",
              "\n",
              "    [theme=dark] .colab-df-convert {\n",
              "      background-color: #3B4455;\n",
              "      fill: #D2E3FC;\n",
              "    }\n",
              "\n",
              "    [theme=dark] .colab-df-convert:hover {\n",
              "      background-color: #434B5C;\n",
              "      box-shadow: 0px 1px 3px 1px rgba(0, 0, 0, 0.15);\n",
              "      filter: drop-shadow(0px 1px 2px rgba(0, 0, 0, 0.3));\n",
              "      fill: #FFFFFF;\n",
              "    }\n",
              "  </style>\n",
              "\n",
              "      <script>\n",
              "        const buttonEl =\n",
              "          document.querySelector('#df-f94684b9-1ea1-4421-8c9e-18c3261c4e27 button.colab-df-convert');\n",
              "        buttonEl.style.display =\n",
              "          google.colab.kernel.accessAllowed ? 'block' : 'none';\n",
              "\n",
              "        async function convertToInteractive(key) {\n",
              "          const element = document.querySelector('#df-f94684b9-1ea1-4421-8c9e-18c3261c4e27');\n",
              "          const dataTable =\n",
              "            await google.colab.kernel.invokeFunction('convertToInteractive',\n",
              "                                                     [key], {});\n",
              "          if (!dataTable) return;\n",
              "\n",
              "          const docLinkHtml = 'Like what you see? Visit the ' +\n",
              "            '<a target=\"_blank\" href=https://colab.research.google.com/notebooks/data_table.ipynb>data table notebook</a>'\n",
              "            + ' to learn more about interactive tables.';\n",
              "          element.innerHTML = '';\n",
              "          dataTable['output_type'] = 'display_data';\n",
              "          await google.colab.output.renderOutput(dataTable, element);\n",
              "          const docLink = document.createElement('div');\n",
              "          docLink.innerHTML = docLinkHtml;\n",
              "          element.appendChild(docLink);\n",
              "        }\n",
              "      </script>\n",
              "    </div>\n",
              "  </div>\n",
              "  "
            ]
          },
          "metadata": {},
          "execution_count": 46
        }
      ]
    },
    {
      "cell_type": "markdown",
      "source": [
        "Download the table as csv file"
      ],
      "metadata": {
        "id": "Xonj32kmyYss"
      },
      "id": "Xonj32kmyYss"
    },
    {
      "cell_type": "code",
      "source": [
        "from google.colab import files\n",
        "evaluation_metrics_table_HCNMF.to_csv('evaluation_metrics_table_HCNMF_YaleB.csv') \n",
        "files.download('evaluation_metrics_table_HCNMF_YaleB.csv')"
      ],
      "metadata": {
        "colab": {
          "base_uri": "https://localhost:8080/",
          "height": 17
        },
        "id": "wZ629T4WKiq8",
        "outputId": "318bd163-62af-41a8-ea79-a76b5dd45220"
      },
      "id": "wZ629T4WKiq8",
      "execution_count": null,
      "outputs": [
        {
          "output_type": "display_data",
          "data": {
            "text/plain": [
              "<IPython.core.display.Javascript object>"
            ],
            "application/javascript": [
              "\n",
              "    async function download(id, filename, size) {\n",
              "      if (!google.colab.kernel.accessAllowed) {\n",
              "        return;\n",
              "      }\n",
              "      const div = document.createElement('div');\n",
              "      const label = document.createElement('label');\n",
              "      label.textContent = `Downloading \"${filename}\": `;\n",
              "      div.appendChild(label);\n",
              "      const progress = document.createElement('progress');\n",
              "      progress.max = size;\n",
              "      div.appendChild(progress);\n",
              "      document.body.appendChild(div);\n",
              "\n",
              "      const buffers = [];\n",
              "      let downloaded = 0;\n",
              "\n",
              "      const channel = await google.colab.kernel.comms.open(id);\n",
              "      // Send a message to notify the kernel that we're ready.\n",
              "      channel.send({})\n",
              "\n",
              "      for await (const message of channel.messages) {\n",
              "        // Send a message to notify the kernel that we're ready.\n",
              "        channel.send({})\n",
              "        if (message.buffers) {\n",
              "          for (const buffer of message.buffers) {\n",
              "            buffers.push(buffer);\n",
              "            downloaded += buffer.byteLength;\n",
              "            progress.value = downloaded;\n",
              "          }\n",
              "        }\n",
              "      }\n",
              "      const blob = new Blob(buffers, {type: 'application/binary'});\n",
              "      const a = document.createElement('a');\n",
              "      a.href = window.URL.createObjectURL(blob);\n",
              "      a.download = filename;\n",
              "      div.appendChild(a);\n",
              "      a.click();\n",
              "      div.remove();\n",
              "    }\n",
              "  "
            ]
          },
          "metadata": {}
        },
        {
          "output_type": "display_data",
          "data": {
            "text/plain": [
              "<IPython.core.display.Javascript object>"
            ],
            "application/javascript": [
              "download(\"download_8b5de512-d726-42a5-a19a-f947fa6aa545\", \"evaluation_metrics_table_HCNMF_YaleB.csv\", 1054)"
            ]
          },
          "metadata": {}
        }
      ]
    },
    {
      "cell_type": "markdown",
      "source": [
        "### 6.3 Experiment for L2,1 NMF"
      ],
      "metadata": {
        "id": "k-pZtA2RU9BE"
      },
      "id": "k-pZtA2RU9BE"
    },
    {
      "cell_type": "code",
      "execution_count": null,
      "metadata": {
        "id": "14fXUPy2z7m0"
      },
      "outputs": [],
      "source": [
        "W_list_L21NMF = []\n",
        "H_list_L21NMF = []\n",
        "avg_rre_list_L21NMF = []\n",
        "avg_acc_list_L21NMF = []\n",
        "avg_nmi_list_L21NMF = []\n",
        "std_rre_list_L21NMF = []\n",
        "std_acc_list_L21NMF = []\n",
        "std_nmi_list_L21NMF = [] \n",
        "nmf_method_list_L21NMF = []\n",
        "# time_training_list =[]\n",
        "\n",
        "#Apply L12 NMF function\n",
        "for i, V in enumerate(V_list):\n",
        "\n",
        "    print('==> Apply L21NMF for',noise_scenario_name[i]\n",
        "\n",
        "    # print('==> Evaluate RRE, Acc and NMI ...')\n",
        "    avg_rre,avg_acc,avg_nmi,std_rre,std_acc,std_nmi  = Crossvalidation(V_hat=V_hat, Y_hat=Y_hat, V_noise=V, times=5,nmf_method = \"L21NMF\")\n",
        "    print('RRE = {:.4f},{:.4f}, acc = {:.4f},{:.4f}, nmi = {:.4f},{:.4f}'.format(avg_rre,std_rre,avg_acc,std_acc,avg_nmi,std_nmi))\n",
        "\n",
        "    #Output an example of the reconstructive image\n",
        "    W, H, time_training = l12nmf_train(V=V_list[i],Y_hat=Y_hat,random_seed = 1)\n",
        "\n",
        "    #Creat a output list\n",
        "    nmf_method_list_L21NMF = nmf_method_list_L21NMF + [\"L21NMF\"]\n",
        "    W_list_L21NMF.append(W)\n",
        "    H_list_L21NMF.append(H)\n",
        "    avg_rre_list_L21NMF.append(avg_rre)\n",
        "    avg_acc_list_L21NMF.append(avg_acc)\n",
        "    avg_nmi_list_L21NMF.append(avg_nmi)\n",
        "    std_rre_list_L21NMF.append(std_rre)\n",
        "    std_acc_list_L21NMF.append(std_acc)\n",
        "    std_nmi_list_L21NMF.append(std_nmi)\n",
        "    # time_training_list.append(time_training)"
      ],
      "id": "14fXUPy2z7m0"
    },
    {
      "cell_type": "markdown",
      "source": [
        "Create table of L2,1-NMF"
      ],
      "metadata": {
        "id": "cO_n7sISycUT"
      },
      "id": "cO_n7sISycUT"
    },
    {
      "cell_type": "code",
      "execution_count": null,
      "metadata": {
        "id": "6fZ3EzoO3-fV"
      },
      "outputs": [],
      "source": [
        "import pandas as pd\n",
        "evaluation_metrics_table_L21NMF = pd.DataFrame(\n",
        "    list(zip(\n",
        "    noise_scenario_name,\n",
        "    nmf_method_list_L21NMF,\n",
        "    avg_rre_list_L21NMF,\n",
        "    avg_acc_list_L21NMF,\n",
        "    avg_nmi_list_L21NMF,\n",
        "    std_rre_list_L21NMF,\n",
        "    std_acc_list_L21NMF,\n",
        "    std_nmi_list_L21NMF)),\n",
        "    columns  = ['Noise Type','NMF Method','Avg_RRE','Avg_Accuracy','Avg_NMI','std_RRE','std_Accuracy','std_NMI']\n",
        ")\n",
        "evaluation_metrics_table_L21NMF"
      ],
      "id": "6fZ3EzoO3-fV"
    },
    {
      "cell_type": "markdown",
      "source": [
        "Download the table as csv file"
      ],
      "metadata": {
        "id": "AsMCcHXPye4N"
      },
      "id": "AsMCcHXPye4N"
    },
    {
      "cell_type": "code",
      "source": [
        "from google.colab import files\n",
        "evaluation_metrics_table_L21NMF.to_csv('evaluation_metrics_table_L21NMF_ORL.csv') \n",
        "files.download('evaluation_metrics_table_L21NMF_ORL.csv')"
      ],
      "metadata": {
        "id": "v8wPQnT50kN3"
      },
      "id": "v8wPQnT50kN3",
      "execution_count": null,
      "outputs": []
    },
    {
      "cell_type": "markdown",
      "source": [
        "Create a synthesis table"
      ],
      "metadata": {
        "id": "mOLYK9xfym9c"
      },
      "id": "mOLYK9xfym9c"
    },
    {
      "cell_type": "code",
      "execution_count": null,
      "metadata": {
        "id": "WvGAkiPrm6mn"
      },
      "outputs": [],
      "source": [
        "evaluation_metrics_table = pd.concat((evaluation_metrics_table_NMF,evaluation_metrics_table_HCNMF,evaluation_metrics_table_L21NMF), ignore_index = True)\n",
        "# evaluation_metrics_table = pd.pivot(evaluation_metrics_table, index='Noise Type', columns='NMF Method', values=['RRE',\t'Accuracy',\t'NMI'])\n",
        "evaluation_metrics_table"
      ],
      "id": "WvGAkiPrm6mn"
    },
    {
      "cell_type": "markdown",
      "source": [
        "Download this synthesis table as csv file"
      ],
      "metadata": {
        "id": "wylASK5SyqWs"
      },
      "id": "wylASK5SyqWs"
    },
    {
      "cell_type": "code",
      "execution_count": null,
      "metadata": {
        "id": "5C1Tzku77rdC"
      },
      "outputs": [],
      "source": [
        "from google.colab import files\n",
        "evaluation_metrics_table.to_csv('evaluation_metrics_table.csv') \n",
        "files.download('evaluation_metrics_table.csv')"
      ],
      "id": "5C1Tzku77rdC"
    },
    {
      "cell_type": "markdown",
      "metadata": {
        "id": "7hIrcqfKw4RR"
      },
      "source": [
        "### 6.4 Create reconstructive images"
      ],
      "id": "7hIrcqfKw4RR"
    },
    {
      "cell_type": "code",
      "source": [
        "#Combine W and H output from different experiment as a list for easy plotting\n",
        "W_combine = W_list + W_list_HCNMF + W_list_L21NMF\n",
        "H_combine = H_list + H_list_HCNMF + H_list_L21NMF\n",
        "nmf_method_list = [\"NMF\"] * 7 + [\"HCNMF\"] * 7 + [\"L21NMF\"] * 7"
      ],
      "metadata": {
        "id": "OA0fEEB9V1ts"
      },
      "id": "OA0fEEB9V1ts",
      "execution_count": null,
      "outputs": []
    },
    {
      "cell_type": "code",
      "execution_count": null,
      "metadata": {
        "id": "yxB1a-1TBvv_"
      },
      "outputs": [],
      "source": [
        "noise_type_indice = 1 #Choose which type of noise to inspect\n",
        "figure, ax = plt.subplots(nrows=4,ncols=4, gridspec_kw = {'hspace': 0,'wspace': 0.1}) #,figsize=(5,6)\n",
        "for ind in range(4):\n",
        "      ax[0,0].set_title(noise_scenario_name[noise_type_indice])\n",
        "      ax[ind,0].imshow(V_list[noise_type_indice][:,ind+100].reshape(image_shape), cmap=plt.cm.gray)\n",
        "\n",
        "      ax[0,1].set_title(nmf_method_list[noise_type_indice])\n",
        "      ax[ind,1].imshow(W_combine[noise_type_indice].dot(H_combine[noise_type_indice])[:,ind+100].reshape(image_shape), cmap=plt.cm.gray)\n",
        "\n",
        "      ax[0,2].set_title(nmf_method_list[noise_type_indice+len(noise_scenario_name)])\n",
        "      ax[ind,2].imshow(W_combine[noise_type_indice+len(noise_scenario_name)].dot(H_combine[noise_type_indice+len(noise_scenario_name)])[:,ind+100].reshape(image_shape), cmap=plt.cm.gray)\n",
        "\n",
        "      ax[0,3].set_title(nmf_method_list[noise_type_indice+len(noise_scenario_name)*2])\n",
        "      ax[ind,3].imshow(W_combine[noise_type_indice+len(noise_scenario_name)*2].dot(H_combine[noise_type_indice+len(noise_scenario_name)*2])[:,ind+100].reshape(image_shape), cmap=plt.cm.gray)\n",
        "\n",
        "for ax in ax.flatten():\n",
        "  ax.set_axis_off()\n",
        "  ax.axis('tight')\n",
        "\n",
        "# plt.tight_layout()\n",
        "plt.show()"
      ],
      "id": "yxB1a-1TBvv_"
    }
  ],
  "metadata": {
    "colab": {
      "collapsed_sections": [],
      "provenance": [],
      "toc_visible": true
    },
    "kernelspec": {
      "display_name": "Python 3.9.7 ('base')",
      "language": "python",
      "name": "python3"
    },
    "language_info": {
      "codemirror_mode": {
        "name": "ipython",
        "version": 3
      },
      "file_extension": ".py",
      "mimetype": "text/x-python",
      "name": "python",
      "nbconvert_exporter": "python",
      "pygments_lexer": "ipython3",
      "version": "3.9.7"
    },
    "vscode": {
      "interpreter": {
        "hash": "ad2bdc8ecc057115af97d19610ffacc2b4e99fae6737bb82f5d7fb13d2f2c186"
      }
    }
  },
  "nbformat": 4,
  "nbformat_minor": 5
}
